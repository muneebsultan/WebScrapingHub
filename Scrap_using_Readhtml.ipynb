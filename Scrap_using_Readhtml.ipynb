{
 "cells": [
  {
   "cell_type": "markdown",
   "metadata": {},
   "source": [
    "## Scrap Finviz table using read_html"
   ]
  },
  {
   "cell_type": "code",
   "execution_count": null,
   "metadata": {
    "vscode": {
     "languageId": "plaintext"
    }
   },
   "outputs": [],
   "source": [
    "#libraries to import \n",
    "import os\n",
    "import sys\n",
    "import time\n",
    "import requests\n",
    "import pandas as pd\n",
    "from urllib3.util.retry import Retry\n",
    "from requests.adapters import HTTPAdapter"
   ]
  },
  {
   "cell_type": "code",
   "execution_count": null,
   "metadata": {
    "vscode": {
     "languageId": "plaintext"
    }
   },
   "outputs": [],
   "source": [
    "#add header and links\n",
    "method_url_dict = {\"Write all links with their corresponding keys where the table exists.\"}\n",
    "headers = { \"Write Header\"}\n",
    "\n",
    "#for multi retries\n",
    "session = requests.Session()\n",
    "retry = Retry(connect=3, backoff_factor=1)\n",
    "adapter = HTTPAdapter(max_retries=retry)\n",
    "session.mount('http://', adapter)\n",
    "session.mount('https://', adapter)"
   ]
  },
  {
   "cell_type": "code",
   "execution_count": null,
   "metadata": {
    "vscode": {
     "languageId": "plaintext"
    }
   },
   "outputs": [],
   "source": [
    "# Main function for scraping tables, link by link.\n",
    "def getFullResponse(url, count=0):\n",
    "    response = requests.get(url, headers=headers)\n",
    "    # df = pd.read_html(response.text, attrs={'class': 'styled-table-new is-rounded is-tabular-nums w-full screener_table'})\n",
    "    try:\n",
    "        df = pd.read_html(response.text, attrs={'class': 'styled-table-new is-rounded is-tabular-nums w-full screener_table'})\n",
    "    except ValueError as e:\n",
    "        print(f\"Error while parsing tables: {e}\")\n",
    "        return None\n",
    "    tickers = df[0]['Ticker']\n",
    "    all_tickers = []\n",
    "    for ticker in tickers:\n",
    "        ticker1.append(ticker)\n",
    "    return all_tickers"
   ]
  },
  {
   "cell_type": "code",
   "execution_count": null,
   "metadata": {
    "vscode": {
     "languageId": "plaintext"
    }
   },
   "outputs": [],
   "source": [
    "#Get all the data and transform it as needed.\n",
    "def ingestScreener(database_name, symbols_in_db):\n",
    "    try:\n",
    "        result = {}\n",
    "        count = 0\n",
    "        total_count = 0\n",
    "        for method, url in method_url_dict.items():\n",
    "            range = 1\n",
    "            result[method] = []\n",
    "            while True:\n",
    "                symbols = getFullResponse(f\"{url}&r={range}\")\n",
    "                if symbols and len(symbols) > 1:\n",
    "                    for symbol in symbols:\n",
    "                        total_count += 1\n",
    "                        #if symbol available update it.\n",
    "                        if symbol in symbols_in_db:\n",
    "                            count += 1\n",
    "                            if symbol in result[method]:\n",
    "                                break\n",
    "                            else:\n",
    "                            #else append symbol too\n",
    "                                result[method].append(symbol)  \n",
    "                    info_logger.log(f\"symbols exist in db {count} out of {total_count} in in {time.time() - start:.2f} seconds\")       \n",
    "                else:\n",
    "                    break\n",
    "                range += 20\n",
    "\n",
    "        symbols = set()\n",
    "        for key, values in result.items():\n",
    "            symbols.update(values)\n",
    "        data = []\n",
    "        columns = list(result.keys())\n",
    "        columns.insert(0, 'symbol')\n",
    "        for symbol in symbols:\n",
    "            row = [symbol]\n",
    "            for key in columns[1:]:\n",
    "                if symbol in result.get(key, []):\n",
    "                    row.append(True)\n",
    "                else:\n",
    "                    row.append(False)\n",
    "            data.append(row)\n",
    "        if data:\n",
    "            db.truncateTable(database_name, table_name)\n",
    "            success_logger.log(f\"Successfully truncate data in database in {time.time() - start:.2f} seconds\")\n",
    "            db.insert(database_name=database_name, table_name=table_name, columns=columns, values=data)\n",
    "            success_logger.log(f\"Successfully saved data to database in {time.time() - start:.2f} seconds\")\n",
    "\n",
    "    except Exception as e:\n",
    "        error_logger.log(e)"
   ]
  },
  {
   "cell_type": "code",
   "execution_count": null,
   "metadata": {
    "vscode": {
     "languageId": "plaintext"
    }
   },
   "outputs": [],
   "source": [
    "if __name__ == \"__main__\":\n",
    "    try:\n",
    "        \"\"\"\n",
    "            Script Args:\n",
    "                database_name: see database file for names\n",
    "        \"\"\"\n",
    "        \n",
    "        start = time.time()\n",
    "        #To add an argument when running a script, we use sys.argv to pass the argument.\n",
    "        list_operations = sys.argv\n",
    "        database_name = list_operations[1]\n",
    "        #to get symbols from database\n",
    "        query = \"\"\"\n",
    "                    SELECT symbol FROM stock_symbols\n",
    "                \"\"\"\n",
    "        symbols = db.getDataFromQuery(database_name=database_name, query=query)\n",
    "        success_logger.log(f\"Successfully get data from database {time.time() - start:.2f} seconds\")\n",
    "        symbols = [symbol[0] for symbol in symbols]\n",
    "        ingestScreener(database_name, symbols)\n",
    "        success_logger.log(f'Successfully ingested in {time.time() - start:.2f} seconds')\n",
    "    except Exception as e:\n",
    "        error_logger.log(e)"
   ]
  }
 ],
 "metadata": {
  "language_info": {
   "name": "python"
  }
 },
 "nbformat": 4,
 "nbformat_minor": 2
}
